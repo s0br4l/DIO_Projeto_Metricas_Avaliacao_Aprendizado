{
  "nbformat": 4,
  "nbformat_minor": 0,
  "metadata": {
    "colab": {
      "provenance": [],
      "gpuType": "T4"
    },
    "kernelspec": {
      "name": "python3",
      "display_name": "Python 3"
    },
    "language_info": {
      "name": "python"
    },
    "accelerator": "GPU"
  },
  "cells": [
    {
      "cell_type": "code",
      "execution_count": 1,
      "metadata": {
        "colab": {
          "base_uri": "https://localhost:8080/",
          "height": 1000
        },
        "id": "8hLELSXh9L0S",
        "outputId": "3a836a47-c41e-4ed6-ba43-46ec05549801"
      },
      "outputs": [
        {
          "output_type": "stream",
          "name": "stdout",
          "text": [
            "Downloading data from https://storage.googleapis.com/tensorflow/tf-keras-datasets/mnist.npz\n",
            "\u001b[1m11490434/11490434\u001b[0m \u001b[32m━━━━━━━━━━━━━━━━━━━━\u001b[0m\u001b[37m\u001b[0m \u001b[1m2s\u001b[0m 0us/step\n"
          ]
        },
        {
          "output_type": "stream",
          "name": "stderr",
          "text": [
            "/usr/local/lib/python3.10/dist-packages/keras/src/layers/convolutional/base_conv.py:107: UserWarning: Do not pass an `input_shape`/`input_dim` argument to a layer. When using Sequential models, prefer using an `Input(shape)` object as the first layer in the model instead.\n",
            "  super().__init__(activity_regularizer=activity_regularizer, **kwargs)\n"
          ]
        },
        {
          "output_type": "stream",
          "name": "stdout",
          "text": [
            "Epoch 1/3\n",
            "\u001b[1m1500/1500\u001b[0m \u001b[32m━━━━━━━━━━━━━━━━━━━━\u001b[0m\u001b[37m\u001b[0m \u001b[1m9s\u001b[0m 4ms/step - accuracy: 0.9068 - loss: 0.3176 - val_accuracy: 0.9782 - val_loss: 0.0738\n",
            "Epoch 2/3\n",
            "\u001b[1m1500/1500\u001b[0m \u001b[32m━━━━━━━━━━━━━━━━━━━━\u001b[0m\u001b[37m\u001b[0m \u001b[1m6s\u001b[0m 2ms/step - accuracy: 0.9821 - loss: 0.0589 - val_accuracy: 0.9806 - val_loss: 0.0644\n",
            "Epoch 3/3\n",
            "\u001b[1m1500/1500\u001b[0m \u001b[32m━━━━━━━━━━━━━━━━━━━━\u001b[0m\u001b[37m\u001b[0m \u001b[1m6s\u001b[0m 3ms/step - accuracy: 0.9897 - loss: 0.0343 - val_accuracy: 0.9846 - val_loss: 0.0548\n",
            "\u001b[1m313/313\u001b[0m \u001b[32m━━━━━━━━━━━━━━━━━━━━\u001b[0m\u001b[37m\u001b[0m \u001b[1m1s\u001b[0m 2ms/step\n",
            "Matriz de Confusão:\n",
            " [[ 975    1    1    0    0    0    2    1    0    0]\n",
            " [   0 1127    2    1    0    2    2    0    1    0]\n",
            " [   1    2 1018    2    1    0    0    6    2    0]\n",
            " [   0    0    0 1004    0    3    0    0    3    0]\n",
            " [   0    1    4    0  960    0    0    0    4   13]\n",
            " [   1    0    0    6    0  883    1    0    1    0]\n",
            " [   4    2    2    0    3   15  931    0    1    0]\n",
            " [   1    2   10    3    0    0    0 1005    2    5]\n",
            " [   5    0    7   10    0    3    1    1  943    4]\n",
            " [   1    2    0    8    2    7    0    2    5  982]]\n"
          ]
        },
        {
          "output_type": "display_data",
          "data": {
            "text/plain": [
              "<Figure size 800x600 with 2 Axes>"
            ],
            "image/png": "[encoded data removed]"
          },
          "metadata": {}
        },
        {
          "output_type": "stream",
          "name": "stdout",
          "text": [
            "Acurácia: 1.00\n",
            "Recall (Sensibilidade): 0.99\n",
            "Especificidade: 1.00\n",
            "Precisão: 0.99\n",
            "F-Score: 0.99\n",
            "\n",
            "Relatório de Classificação:\n",
            "              precision    recall  f1-score   support\n",
            "\n",
            "           0       0.99      0.99      0.99       980\n",
            "           1       0.99      0.99      0.99      1135\n",
            "           2       0.98      0.99      0.98      1032\n",
            "           3       0.97      0.99      0.98      1010\n",
            "           4       0.99      0.98      0.99       982\n",
            "           5       0.97      0.99      0.98       892\n",
            "           6       0.99      0.97      0.98       958\n",
            "           7       0.99      0.98      0.98      1028\n",
            "           8       0.98      0.97      0.97       974\n",
            "           9       0.98      0.97      0.98      1009\n",
            "\n",
            "    accuracy                           0.98     10000\n",
            "   macro avg       0.98      0.98      0.98     10000\n",
            "weighted avg       0.98      0.98      0.98     10000\n",
            "\n"
          ]
        }
      ],
      "source": [
        "import tensorflow as tf\n",
        "from sklearn.metrics import confusion_matrix, classification_report\n",
        "import numpy as np\n",
        "import matplotlib.pyplot as plt\n",
        "\n",
        "# 1. Carregar o dataset MNIST (como exemplo)\n",
        "(x_train, y_train), (x_test, y_test) = tf.keras.datasets.mnist.load_data()\n",
        "\n",
        "# Pré-processamento dos dados\n",
        "x_train = x_train.reshape(-1, 28, 28, 1) / 255.0  # Normalização\n",
        "x_test = x_test.reshape(-1, 28, 28, 1) / 255.0    # Normalização\n",
        "y_train_categorico = tf.keras.utils.to_categorical(y_train, 10)\n",
        "y_test_categorico = tf.keras.utils.to_categorical(y_test, 10)\n",
        "\n",
        "# 2. Definir um modelo simples\n",
        "model = tf.keras.Sequential([\n",
        "    tf.keras.layers.Conv2D(32, (3, 3), activation='relu', input_shape=(28, 28, 1)),\n",
        "    tf.keras.layers.MaxPooling2D((2, 2)),\n",
        "    tf.keras.layers.Flatten(),\n",
        "    tf.keras.layers.Dense(128, activation='relu'),\n",
        "    tf.keras.layers.Dense(10, activation='softmax')\n",
        "])\n",
        "\n",
        "# Compilar o modelo\n",
        "model.compile(optimizer='adam',\n",
        "              loss='categorical_crossentropy',\n",
        "              metrics=['accuracy'])\n",
        "\n",
        "# Treinar o modelo\n",
        "model.fit(x_train, y_train_categorico, epochs=3, batch_size=32, validation_split=0.2)\n",
        "\n",
        "# 3. Fazer previsões no conjunto de teste\n",
        "y_pred_probs = model.predict(x_test)\n",
        "y_pred = np.argmax(y_pred_probs, axis=1)  # Converter probabilidades para classes previstas\n",
        "\n",
        "# 4. Gerar a matriz de confusão\n",
        "cm = confusion_matrix(y_test, y_pred)\n",
        "print(\"Matriz de Confusão:\\n\", cm)\n",
        "\n",
        "# Visualizar a matriz de confusão\n",
        "plt.figure(figsize=(8, 6))\n",
        "plt.imshow(cm, interpolation='nearest', cmap=plt.cm.Blues)\n",
        "plt.title(\"Matriz de Confusão\")\n",
        "plt.colorbar()\n",
        "plt.xlabel(\"Classes Previstas\")\n",
        "plt.ylabel(\"Classes Verdadeiras\")\n",
        "plt.show()\n",
        "\n",
        "# 5. Calcular métricas (para problema binário ou generalizar para cada classe)\n",
        "# Exemplo para uma classe específica (binário):\n",
        "# Suponha que estamos interessados na classe \"1\"\n",
        "TP = cm[1, 1]\n",
        "TN = np.sum(cm) - (np.sum(cm[1, :]) + np.sum(cm[:, 1]) - TP)\n",
        "FP = np.sum(cm[:, 1]) - TP\n",
        "FN = np.sum(cm[1, :]) - TP\n",
        "\n",
        "accuracy = (TP + TN) / np.sum(cm)\n",
        "recall = TP / (TP + FN) if (TP + FN) != 0 else 0\n",
        "specificity = TN / (TN + FP) if (TN + FP) != 0 else 0\n",
        "precision = TP / (TP + FP) if (TP + FP) != 0 else 0\n",
        "f_score = 2 * (precision * recall) / (precision + recall) if (precision + recall) != 0 else 0\n",
        "\n",
        "print(f\"Acurácia: {accuracy:.2f}\")\n",
        "print(f\"Recall (Sensibilidade): {recall:.2f}\")\n",
        "print(f\"Especificidade: {specificity:.2f}\")\n",
        "print(f\"Precisão: {precision:.2f}\")\n",
        "print(f\"F-Score: {f_score:.2f}\")\n",
        "\n",
        "# 6. Relatório de classificação completo (multiclasse)\n",
        "print(\"\\nRelatório de Classificação:\")\n",
        "print(classification_report(y_test, y_pred))\n"
      ]
    }
  ]
}